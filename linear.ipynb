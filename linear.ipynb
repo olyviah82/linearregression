{
  "nbformat": 4,
  "nbformat_minor": 0,
  "metadata": {
    "colab": {
      "name": "linear",
      "provenance": [],
      "collapsed_sections": [],
      "authorship_tag": "ABX9TyNgrKKQi8X1/71llnvlwoev",
      "include_colab_link": true
    },
    "kernelspec": {
      "name": "python3",
      "display_name": "Python 3"
    },
    "language_info": {
      "name": "python"
    }
  },
  "cells": [
    {
      "cell_type": "markdown",
      "metadata": {
        "id": "view-in-github",
        "colab_type": "text"
      },
      "source": [
        "<a href=\"https://colab.research.google.com/github/olyviah82/linearregression/blob/main/linear.ipynb\" target=\"_parent\"><img src=\"https://colab.research.google.com/assets/colab-badge.svg\" alt=\"Open In Colab\"/></a>"
      ]
    },
    {
      "cell_type": "code",
      "execution_count": 6,
      "metadata": {
        "id": "d75O-26PHViX"
      },
      "outputs": [],
      "source": [
        "import matplotlib.pyplot as plt\n",
        "import pandas as pd\n",
        "from sklearn.linear_model import LinearRegression"
      ]
    },
    {
      "cell_type": "code",
      "source": [
        "dataset=pd.read_csv('MOCK_DATA (4).csv')\n",
        "x=dataset['size']\n",
        "y=dataset['price']\n",
        "plt.scatter(x,y, s=10, alpha=0.6, edgecolor='black', linewidth=1)\n",
        "plt.title('Office Layout')\n",
        "plt.xlabel('size')\n",
        "plt.ylabel('price')\n",
        "\n",
        "plt.tight_layout()\n",
        "plt.show()\n",
        "\n"
      ],
      "metadata": {
        "colab": {
          "base_uri": "https://localhost:8080/",
          "height": 297
        },
        "id": "p3GcpgfCHaOK",
        "outputId": "b6189a41-7c0c-47fc-d8ba-625b9628d058"
      },
      "execution_count": 7,
      "outputs": [
        {
          "output_type": "display_data",
          "data": {
            "text/plain": [
              "<Figure size 432x288 with 1 Axes>"
            ],
            "image/png": "[encoded data removed]"
          },
          "metadata": {
            "needs_background": "light"
          }
        }
      ]
    },
    {
      "cell_type": "code",
      "source": [
        "from scipy import stats"
      ],
      "metadata": {
        "id": "uOwfQfgMHaa-"
      },
      "execution_count": 8,
      "outputs": []
    },
    {
      "cell_type": "code",
      "source": [
        "x"
      ],
      "metadata": {
        "colab": {
          "base_uri": "https://localhost:8080/"
        },
        "id": "Abxk-u_dHauT",
        "outputId": "3259820e-9943-4e7f-a92e-834ad8d40cad"
      },
      "execution_count": 9,
      "outputs": [
        {
          "output_type": "execute_result",
          "data": {
            "text/plain": [
              "0     20\n",
              "1     91\n",
              "2     81\n",
              "3     91\n",
              "4     20\n",
              "      ..\n",
              "95    71\n",
              "96    17\n",
              "97    95\n",
              "98    63\n",
              "99    62\n",
              "Name: size, Length: 100, dtype: int64"
            ]
          },
          "metadata": {},
          "execution_count": 9
        }
      ]
    },
    {
      "cell_type": "code",
      "source": [
        "y"
      ],
      "metadata": {
        "colab": {
          "base_uri": "https://localhost:8080/"
        },
        "id": "IPwalrisINp1",
        "outputId": "7711c215-f16e-4b88-8430-6eed7831cb65"
      },
      "execution_count": 10,
      "outputs": [
        {
          "output_type": "execute_result",
          "data": {
            "text/plain": [
              "0     929\n",
              "1     657\n",
              "2     725\n",
              "3     591\n",
              "4     632\n",
              "     ... \n",
              "95    693\n",
              "96    575\n",
              "97    908\n",
              "98    564\n",
              "99    695\n",
              "Name: price, Length: 100, dtype: int64"
            ]
          },
          "metadata": {},
          "execution_count": 10
        }
      ]
    },
    {
      "cell_type": "code",
      "source": [
        "slope, intercept, r, p, std_err = stats.linregress(x, y)\n",
        "def myfunc(x):\n",
        "  return slope * x + intercept\n",
        "\n",
        "mymodel = list(map(myfunc, x))\n",
        "\n",
        "plt.scatter(x, y)\n",
        "plt.plot(x, mymodel)\n",
        "plt.show()"
      ],
      "metadata": {
        "colab": {
          "base_uri": "https://localhost:8080/",
          "height": 265
        },
        "id": "MrwW7wlFIPZv",
        "outputId": "07c0bddc-460e-4633-fcd1-5cc3c86df1fd"
      },
      "execution_count": 11,
      "outputs": [
        {
          "output_type": "display_data",
          "data": {
            "text/plain": [
              "<Figure size 432x288 with 1 Axes>"
            ],
            "image/png": "[encoded data removed]"
          },
          "metadata": {
            "needs_background": "light"
          }
        }
      ]
    },
    {
      "cell_type": "code",
      "source": [
        "model = LinearRegression()\n",
        "model.fit(dataset[['size']], dataset['price'])\n",
        "y_2 = model.predict(dataset[['size']])\n",
        "dataset['y_predicted'] = y_2\n",
        "print(dataset.head(20))"
      ],
      "metadata": {
        "colab": {
          "base_uri": "https://localhost:8080/"
        },
        "id": "KLeLdvoq3scV",
        "outputId": "511f4050-63de-4bb3-d940-8e945e59c8cc"
      },
      "execution_count": 14,
      "outputs": [
        {
          "output_type": "stream",
          "name": "stdout",
          "text": [
            "    size  price  y_predicted\n",
            "0     20    929   684.757875\n",
            "1     91    657   752.532939\n",
            "2     81    725   742.987156\n",
            "3     91    591   752.532939\n",
            "4     20    632   684.757875\n",
            "5     27    502   691.439924\n",
            "6     98    591   759.214988\n",
            "7     73    783   735.350529\n",
            "8     96    506   757.305831\n",
            "9     31    563   695.258237\n",
            "10    62    568   724.850167\n",
            "11    55    618   718.168118\n",
            "12    70    960   732.486793\n",
            "13    58    836   721.031853\n",
            "14    72    835   734.395950\n",
            "15    16    782   680.939562\n",
            "16    88    959   749.669204\n",
            "17    53    811   716.258961\n",
            "18    99    950   760.169566\n",
            "19    76    991   738.214264\n"
          ]
        }
      ]
    },
    {
      "cell_type": "code",
      "source": [
        "r_sq = model.score(dataset[['size']], dataset['price'])\n",
        "print(f\"coefficient of determination: {r_sq}\")"
      ],
      "metadata": {
        "colab": {
          "base_uri": "https://localhost:8080/"
        },
        "id": "CdiqRhFX6ctW",
        "outputId": "26ad1b93-9899-4e71-f52e-42da4fe7883e"
      },
      "execution_count": 18,
      "outputs": [
        {
          "output_type": "stream",
          "name": "stdout",
          "text": [
            "coefficient of determination: 0.0324536919798587\n"
          ]
        }
      ]
    },
    {
      "cell_type": "code",
      "source": [
        "print(f\"intercept: {model.intercept_}\")"
      ],
      "metadata": {
        "colab": {
          "base_uri": "https://localhost:8080/"
        },
        "id": "bz9VL5-X62NW",
        "outputId": "b1369be5-21e1-44c1-b629-ecf8ed2be3c6"
      },
      "execution_count": 19,
      "outputs": [
        {
          "output_type": "stream",
          "name": "stdout",
          "text": [
            "intercept: 665.6663077716084\n"
          ]
        }
      ]
    },
    {
      "cell_type": "code",
      "source": [
        "print(f\"slope: {model.coef_}\")"
      ],
      "metadata": {
        "colab": {
          "base_uri": "https://localhost:8080/"
        },
        "id": "WIEPigWs62Zp",
        "outputId": "bb2bc641-336c-43ba-ebae-647cd4917910"
      },
      "execution_count": 20,
      "outputs": [
        {
          "output_type": "stream",
          "name": "stdout",
          "text": [
            "slope: [0.95457837]\n"
          ]
        }
      ]
    },
    {
      "cell_type": "code",
      "source": [
        "y_pred = model.predict(dataset[['size']])\n",
        "print(f\"predicted response:\\n{y_pred}\")"
      ],
      "metadata": {
        "colab": {
          "base_uri": "https://localhost:8080/"
        },
        "id": "GPwYOR5b7Dwy",
        "outputId": "1c8acd75-9219-409a-caa7-9f7f065cddd1"
      },
      "execution_count": 22,
      "outputs": [
        {
          "output_type": "stream",
          "name": "stdout",
          "text": [
            "predicted response:\n",
            "[684.75787512 752.53293919 742.98715551 752.53293919 684.75787512\n",
            " 691.43992369 759.21498776 735.35052858 757.30583102 695.25823715\n",
            " 724.85016654 718.16811797 732.48679348 721.03185307 734.39595021\n",
            " 680.93956165 749.66920409 716.25896123 760.16956612 738.21426368\n",
            " 693.34908042 761.12414449 723.89558817 684.75787512 689.53076695\n",
            " 718.16811797 692.39450205 700.03112899 736.30510694 747.76004735\n",
            " 753.48751755 728.66848001 739.16884205 714.3498045  685.71245348\n",
            " 727.71390164 675.21209144 681.89414001 724.85016654 693.34908042\n",
            " 715.30438287 676.16666981 703.84944246 725.80474491 679.03040491\n",
            " 756.35125266 724.85016654 721.03185307 751.57836082 752.53293919\n",
            " 727.71390164 708.6223343  738.21426368 755.39667429 699.07655062\n",
            " 756.35125266 715.30438287 679.03040491 744.89631225 711.4860694\n",
            " 727.71390164 703.84944246 699.07655062 721.98643144 694.30365879\n",
            " 692.39450205 705.75859919 738.21426368 707.66775593 729.62305837\n",
            " 754.44209592 679.03040491 702.89486409 694.30365879 718.16811797\n",
            " 687.62161022 756.35125266 711.4860694  752.53293919 742.98715551\n",
            " 748.71462572 701.94028573 731.53221511 743.94173388 747.76004735\n",
            " 705.75859919 733.44137184 688.57618858 705.75859919 679.03040491\n",
            " 751.57836082 748.71462572 699.07655062 745.85089062 680.93956165\n",
            " 733.44137184 681.89414001 756.35125266 725.80474491 724.85016654]\n"
          ]
        }
      ]
    },
    {
      "cell_type": "code",
      "source": [
        "# Calculating the MSE with sklearn\n",
        "from sklearn.metrics import mean_squared_error\n",
        "mse = mean_squared_error(dataset['price'], dataset['y_predicted'])\n",
        "print(mse)\n"
      ],
      "metadata": {
        "colab": {
          "base_uri": "https://localhost:8080/"
        },
        "id": "an1VAXQH40aP",
        "outputId": "01e85dce-f56a-4fea-ddce-93d77e50b4a0"
      },
      "execution_count": 16,
      "outputs": [
        {
          "output_type": "stream",
          "name": "stdout",
          "text": [
            "19584.64625954965\n"
          ]
        }
      ]
    },
    {
      "cell_type": "code",
      "source": [
        "# Building the model\n",
        "m = 0\n",
        "c = 0"
      ],
      "metadata": {
        "id": "cUTwDVcU8X0U"
      },
      "execution_count": 23,
      "outputs": []
    },
    {
      "cell_type": "code",
      "source": [
        "L = 0.0001  # The learning Rate\n",
        "epochs = 1000  # The number of iterations to perform gradient descent\n",
        "\n"
      ],
      "metadata": {
        "id": "MJQIr05b8bVD"
      },
      "execution_count": 24,
      "outputs": []
    },
    {
      "cell_type": "code",
      "source": [
        "n = float(len(dataset['size'])) # Number of elements in X\n"
      ],
      "metadata": {
        "id": "7EaP4haT8g57"
      },
      "execution_count": 26,
      "outputs": []
    },
    {
      "cell_type": "code",
      "source": [
        "x"
      ],
      "metadata": {
        "colab": {
          "base_uri": "https://localhost:8080/"
        },
        "id": "xn4FZ7H38_Mk",
        "outputId": "eacfdbc5-e269-4200-a386-9b7d4cf740c1"
      },
      "execution_count": 27,
      "outputs": [
        {
          "output_type": "execute_result",
          "data": {
            "text/plain": [
              "0     20\n",
              "1     91\n",
              "2     81\n",
              "3     91\n",
              "4     20\n",
              "      ..\n",
              "95    71\n",
              "96    17\n",
              "97    95\n",
              "98    63\n",
              "99    62\n",
              "Name: size, Length: 100, dtype: int64"
            ]
          },
          "metadata": {},
          "execution_count": 27
        }
      ]
    },
    {
      "cell_type": "code",
      "source": [
        "# Performing Gradient Descent \n",
        "for i in range(epochs): \n",
        "    Y_pred = m*x + c  # The current predicted value of Y\n",
        "    D_m = (-2/n) * sum(x * (y - Y_pred))  # Derivative wrt m\n",
        "    D_c = (-2/n) * sum(y - Y_pred)  # Derivative wrt c\n",
        "    m = m - L * D_m  # Update m\n",
        "    c = c - L * D_c  # Update c\n",
        "    \n",
        "print (m, c)"
      ],
      "metadata": {
        "colab": {
          "base_uri": "https://localhost:8080/"
        },
        "id": "4aD_8_eI8zaS",
        "outputId": "a5005aba-2184-4d27-cf9b-c02a1b5751f0"
      },
      "execution_count": 28,
      "outputs": [
        {
          "output_type": "stream",
          "name": "stdout",
          "text": [
            "10.17530545702254 23.924085497827907\n"
          ]
        }
      ]
    },
    {
      "cell_type": "code",
      "source": [
        ""
      ],
      "metadata": {
        "id": "zyAkuBqy9QRy"
      },
      "execution_count": null,
      "outputs": []
    },
    {
      "cell_type": "code",
      "source": [
        "# Making predictions\n",
        "Y_pred = m*x + c\n",
        "\n",
        "plt.scatter(x, y) \n",
        "plt.plot([min(x), max(x)], [min(Y_pred), max(Y_pred)], color='red')  # regression line\n",
        "plt.show()"
      ],
      "metadata": {
        "colab": {
          "base_uri": "https://localhost:8080/",
          "height": 265
        },
        "id": "RIPTp9sj9L54",
        "outputId": "c88f3ebf-3655-420f-f8c4-1351fb04e6c9"
      },
      "execution_count": 32,
      "outputs": [
        {
          "output_type": "display_data",
          "data": {
            "text/plain": [
              "<Figure size 432x288 with 1 Axes>"
            ],
            "image/png": "[encoded data removed]"
          },
          "metadata": {
            "needs_background": "light"
          }
        }
      ]
    }
  ]
}